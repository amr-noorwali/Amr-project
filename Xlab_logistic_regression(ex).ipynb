{
  "nbformat": 4,
  "nbformat_minor": 0,
  "metadata": {
    "colab": {
      "provenance": []
    },
    "kernelspec": {
      "name": "python3",
      "display_name": "Python 3"
    },
    "language_info": {
      "name": "python"
    }
  },
  "cells": [
    {
      "cell_type": "markdown",
      "source": [
        "# Logistic Regression from scratch"
      ],
      "metadata": {
        "id": "cJZqoVmhNfKu"
      }
    },
    {
      "cell_type": "code",
      "execution_count": null,
      "metadata": {
        "id": "_O73RBLQNS1T"
      },
      "outputs": [],
      "source": [
        "import kagglehub\n",
        "import os\n",
        "import pandas as pd\n"
      ]
    },
    {
      "cell_type": "markdown",
      "source": [
        "## Dataset and preprocessing"
      ],
      "metadata": {
        "id": "bOzytpilN7pB"
      }
    },
    {
      "cell_type": "markdown",
      "source": [
        "titanic dataset contains the informatin of people who were in titanic ship: https://www.kaggle.com/datasets/yasserh/titanic-dataset"
      ],
      "metadata": {
        "id": "3nuG00QuaW4J"
      }
    },
    {
      "cell_type": "markdown",
      "source": [
        "use logistic regression to predict who **Survived** or not"
      ],
      "metadata": {
        "id": "o_fDOv4tbC_K"
      }
    },
    {
      "cell_type": "code",
      "source": [
        "path = kagglehub.dataset_download(\"yasserh/titanic-dataset\")\n",
        "print(\"Path to dataset files:\", path)"
      ],
      "metadata": {
        "colab": {
          "base_uri": "https://localhost:8080/"
        },
        "id": "_ygEEc-VPlHv",
        "outputId": "2535e402-f192-4f14-a3c5-3c672430f9e8"
      },
      "execution_count": null,
      "outputs": [
        {
          "output_type": "stream",
          "name": "stdout",
          "text": [
            "Warning: Looks like you're using an outdated `kagglehub` version (installed: 0.3.5), please consider upgrading to the latest version (0.3.6).\n",
            "Downloading from https://www.kaggle.com/api/v1/datasets/download/yasserh/titanic-dataset?dataset_version_number=1...\n"
          ]
        },
        {
          "output_type": "stream",
          "name": "stderr",
          "text": [
            "100%|██████████| 22.0k/22.0k [00:00<00:00, 9.03MB/s]"
          ]
        },
        {
          "output_type": "stream",
          "name": "stdout",
          "text": [
            "Extracting files...\n",
            "Path to dataset files: /root/.cache/kagglehub/datasets/yasserh/titanic-dataset/versions/1\n"
          ]
        },
        {
          "output_type": "stream",
          "name": "stderr",
          "text": [
            "\n"
          ]
        }
      ]
    },
    {
      "cell_type": "code",
      "source": [
        "csv_path = os.path.join(path, \"Titanic-Dataset.csv\")\n",
        "csv_path"
      ],
      "metadata": {
        "colab": {
          "base_uri": "https://localhost:8080/",
          "height": 35
        },
        "id": "fWm3UJzcTkl1",
        "outputId": "648fd96d-8bea-4262-d7d9-88a710adda80"
      },
      "execution_count": null,
      "outputs": [
        {
          "output_type": "execute_result",
          "data": {
            "text/plain": [
              "'/root/.cache/kagglehub/datasets/yasserh/titanic-dataset/versions/1/Titanic-Dataset.csv'"
            ],
            "application/vnd.google.colaboratory.intrinsic+json": {
              "type": "string"
            }
          },
          "metadata": {},
          "execution_count": 10
        }
      ]
    },
    {
      "cell_type": "code",
      "source": [
        "# read the dataset using pandas fucntion read_csv()\n",
        "titanic_dataset = pd.read_csv(csv_path)\n",
        "titanic_dataset.head()"
      ],
      "metadata": {
        "id": "C-hxJrh3YqpG"
      },
      "execution_count": null,
      "outputs": []
    },
    {
      "cell_type": "markdown",
      "source": [
        "### clean the dataset"
      ],
      "metadata": {
        "id": "tZB9tQP9c4aX"
      }
    },
    {
      "cell_type": "code",
      "source": [
        "# remove null values and change categorical data to numerical so the model can work with it"
      ],
      "metadata": {
        "id": "OfDuYI1wdBMW"
      },
      "execution_count": null,
      "outputs": []
    },
    {
      "cell_type": "markdown",
      "source": [
        "### split the dataset"
      ],
      "metadata": {
        "id": "pJWIJsMmaOd6"
      }
    },
    {
      "cell_type": "code",
      "source": [],
      "metadata": {
        "id": "VZ2SXRVYdTUq"
      },
      "execution_count": null,
      "outputs": []
    },
    {
      "cell_type": "markdown",
      "source": [
        "## Model"
      ],
      "metadata": {
        "id": "Bjl-hNUoZ7-o"
      }
    },
    {
      "cell_type": "markdown",
      "source": [
        "![Screenshot 2025-01-06 205645.png](data:image/png;base64,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)"
      ],
      "metadata": {
        "id": "ca_68VPow_CX"
      }
    },
    {
      "cell_type": "code",
      "source": [
        "# do forward pass:\n",
        "# 1) z = parameters @ X\n",
        "# 2) y_hat = sigmoid(z)\n",
        "# 3) log_loss = −np.sum(ylog(y_hat)+(1−y)log(1−y_hat)) / m\n",
        "# then backward pass:\n",
        "# 4) gradient = (X.T @ (y_hat - y)) / m\n",
        "# 5) parameters = parameters - learning_rate * gradient"
      ],
      "metadata": {
        "id": "F_TVkO-7aBr8"
      },
      "execution_count": null,
      "outputs": []
    },
    {
      "cell_type": "markdown",
      "source": [
        "## Training"
      ],
      "metadata": {
        "id": "MxsI5EuNOHOE"
      }
    },
    {
      "cell_type": "code",
      "source": [
        "# choose number of iterations, and learning_rate\n",
        "# 6) repeat k number of iterations"
      ],
      "metadata": {
        "id": "qhkk7eNUOJ4W"
      },
      "execution_count": null,
      "outputs": []
    },
    {
      "cell_type": "markdown",
      "source": [
        "## Testing"
      ],
      "metadata": {
        "id": "KiPqYN_xOKtB"
      }
    },
    {
      "cell_type": "code",
      "source": [
        "# now use the optimized parameters to predict on the test part of the dataset\n",
        "# accuracy"
      ],
      "metadata": {
        "id": "N533K8_AOLzX"
      },
      "execution_count": null,
      "outputs": []
    }
  ]
}